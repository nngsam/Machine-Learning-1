{
 "cells": [
  {
   "cell_type": "markdown",
   "id": "173303e6",
   "metadata": {},
   "source": [
    "# Nguyen Thi Kieu Nhung 11203041 W5\n"
   ]
  },
  {
   "cell_type": "code",
   "execution_count": 22,
   "id": "3e28ce38",
   "metadata": {},
   "outputs": [],
   "source": [
    "import numpy as np\n",
    "import pandas as pd\n",
    "import matplotlib.pyplot as plt"
   ]
  },
  {
   "cell_type": "markdown",
   "id": "29f69f62",
   "metadata": {},
   "source": [
    "2. Dùng thuật toán gradient descent, implement thuật toán logistic regeression"
   ]
  },
  {
   "cell_type": "code",
   "execution_count": 30,
   "id": "17d84ead",
   "metadata": {},
   "outputs": [],
   "source": [
    "class LogisticRegression:\n",
    "    def __init__(self, learning_rate, iterations):\n",
    "        self.learning_rate = learning_rate\n",
    "        self.iterations = iterations\n",
    "    \n",
    "    def sigmoid(self, x):\n",
    "        return np.exp(x) / (1 + np.exp(x))\n",
    "\n",
    "    def transform_x(self, X):\n",
    "        intercept = np.ones((X.shape[0], 1))\n",
    "        return np.concatenate((intercept, X), axis=1)\n",
    "  \n",
    "    def fit(self, X, y):\n",
    "        self.X = self.transform_x(X)\n",
    "        self.w = np.zeros((X.shape[1]+1, 1))\n",
    "        self.cost = np.zeros((self.iterations, 1))\n",
    "        for i in range(self.iterations):\n",
    "          # predicted value\n",
    "          y_predict = self.sigmoid(np.dot(self.X, self.w))\n",
    "          self.cost[i] = np.sum((-y * np.log(y_predict) - (1 - y) * np.log(1 - y_predict)))\n",
    "        \n",
    "          # Gradient descent\n",
    "          gradient = np.dot(self.X.T, y_predict - y)\n",
    "          self.w -= self.learning_rate * gradient\n",
    "\n",
    "    def cost(self):\n",
    "        return self.cost\n",
    "    \n",
    "    def predict_prob(self, X):\n",
    "        return self.sigmoid(np.dot(self.transform_x(X), self.w))\n",
    "    \n",
    "    def predict(self, X):\n",
    "        return self.predict_prob(X).round()"
   ]
  },
  {
   "cell_type": "markdown",
   "id": "138d5104",
   "metadata": {},
   "source": [
    "3. Chạy toán toán logistic regression implement ở ý 2 cho dataset, https://github.com/nttuan8/DL_Tutorial/blob/master/L2/dataset.csv."
   ]
  },
  {
   "cell_type": "code",
   "execution_count": 28,
   "id": "78baffa6",
   "metadata": {},
   "outputs": [
    {
     "data": {
      "text/plain": [
       "<matplotlib.legend.Legend at 0x7f810a9035b0>"
      ]
     },
     "execution_count": 28,
     "metadata": {},
     "output_type": "execute_result"
    },
    {
     "data": {
      "image/png": "[encoded data removed]",
      "text/plain": [
       "<Figure size 432x288 with 1 Axes>"
      ]
     },
     "metadata": {
      "needs_background": "light"
     },
     "output_type": "display_data"
    }
   ],
   "source": [
    "data = pd.read_csv(\"https://raw.githubusercontent.com/nttuan8/DL_Tutorial/master/L2/dataset.csv\").values\n",
    "N, d = data.shape\n",
    "data\n",
    "x = data[:, 0:d-1].reshape(-1, d-1)\n",
    "y = data[:, d-1].reshape(-1, 1)\n",
    "\n",
    "plt.scatter(x[y[:, 0] == 0][:, 0], x[y[:, 0] == 0][:, 1], color='b', label='cho vay')\n",
    "plt.scatter(x[y[:, 0] == 1][:, 0], x[y[:, 0] == 1][:, 1], color='r', label='từ chối')\n",
    "plt.xlabel('mức lương')\n",
    "plt.ylabel('kinh nghiệm')\n",
    "plt.legend()"
   ]
  },
  {
   "cell_type": "markdown",
   "id": "285978a5",
   "metadata": {},
   "source": [
    "\n",
    "4. Vẽ đường boundary cho 2 class\n"
   ]
  },
  {
   "cell_type": "code",
   "execution_count": 35,
   "id": "7930b03f",
   "metadata": {},
   "outputs": [],
   "source": [
    "model = LogisticRegression(learning_rate=0.01, iterations=10000)\n",
    "model.fit(x, y)"
   ]
  },
  {
   "cell_type": "code",
   "execution_count": 36,
   "id": "67a7d5d2",
   "metadata": {},
   "outputs": [
    {
     "data": {
      "text/plain": [
       "<matplotlib.legend.Legend at 0x7f810abb4820>"
      ]
     },
     "execution_count": 36,
     "metadata": {},
     "output_type": "execute_result"
    },
    {
     "data": {
      "image/png": "[encoded data removed]",
      "text/plain": [
       "<Figure size 432x288 with 1 Axes>"
      ]
     },
     "metadata": {
      "needs_background": "light"
     },
     "output_type": "display_data"
    }
   ],
   "source": [
    "x1_min, x1_max = x[:,0].min(), x[:,0].max(),\n",
    "x2_min, x2_max = x[:,1].min(), x[:,1].max(),\n",
    "xx1, xx2 = np.meshgrid(np.linspace(x1_min, x1_max), np.linspace(x2_min, x2_max))\n",
    "grid = np.c_[xx1.ravel(), xx2.ravel()]\n",
    "probs = model.predict_prob(grid).reshape(xx1.shape)\n",
    "plt.scatter(x[y[:, 0] == 0][:, 0], x[y[:, 0] == 0][:, 1], color='b', label='cho vay')\n",
    "plt.scatter(x[y[:, 0] == 1][:, 0], x[y[:, 0] == 1][:, 1], color='r', label='từ chối')\n",
    "plt.contour(xx1, xx2, probs, [0.5], linewidths=1, colors='g')\n",
    "plt.legend()"
   ]
  },
  {
   "cell_type": "code",
   "execution_count": null,
   "id": "b82df6c3",
   "metadata": {},
   "outputs": [],
   "source": []
  }
 ],
 "metadata": {
  "kernelspec": {
   "display_name": "Python 3 (ipykernel)",
   "language": "python",
   "name": "python3"
  },
  "language_info": {
   "codemirror_mode": {
    "name": "ipython",
    "version": 3
   },
   "file_extension": ".py",
   "mimetype": "text/x-python",
   "name": "python",
   "nbconvert_exporter": "python",
   "pygments_lexer": "ipython3",
   "version": "3.9.7"
  }
 },
 "nbformat": 4,
 "nbformat_minor": 5
}
